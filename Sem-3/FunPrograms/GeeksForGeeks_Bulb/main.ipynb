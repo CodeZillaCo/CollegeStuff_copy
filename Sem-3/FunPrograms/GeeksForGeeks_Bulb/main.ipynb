{
 "cells": [
  {
   "cell_type": "markdown",
   "metadata": {},
   "source": [
    "# Geeks For Geeks - Toggle Bulb Switcher"
   ]
  },
  {
   "cell_type": "markdown",
   "metadata": {},
   "source": [
    "### Lalith Adithyan S"
   ]
  },
  {
   "cell_type": "markdown",
   "metadata": {},
   "source": [
    "Solution:\n",
    "\n",
    "Since all the bulbs will be turned ON, on the first move. All odd selection of a particular BULB will result in that BULB \n",
    "to be in the ON state.\n",
    "\n",
    "Since for N bulbs, all bulbs in the position that are divisible by 1 - N are toggled, Only those BULBS with ODD divisors will result in that BULB being turned ON.\n",
    "\n",
    "Every number will be having even number of divisors. EXCEPT the case where PERFECT SQUARES have a multiple of the same divisor. \n",
    "\n",
    "<u>Example : </u>\n",
    "<li>9 = 1 * 9</li>\n",
    "<li>9 = 3 * 3</li>\n",
    "\n",
    "Here the divisors of 9 are <b>1, 3, 9</b>\n",
    "\n",
    "So the 9th bulb will be turned ON.\n",
    "\n",
    "\n",
    "<u>Example :</u>\n",
    "<li>8 = 1 * 8</li>\n",
    "<li>8 = 2 * 4</li>\n",
    "\n",
    "Here the divisors of 8 are <b>1, 2, 4, 8</b>\n",
    "\n",
    "So the 8th bulb will be turned OFF."
   ]
  },
  {
   "cell_type": "code",
   "execution_count": 37,
   "metadata": {},
   "outputs": [],
   "source": [
    "# Number of Bulbs\n",
    "\n",
    "N = 10"
   ]
  },
  {
   "cell_type": "code",
   "execution_count": 38,
   "metadata": {},
   "outputs": [],
   "source": [
    "# Creating an array for the bulbs\n",
    "bulbs = [0 for x in range(N)]\n",
    "\n",
    "# 0 - OFF\n",
    "# 1 - ON"
   ]
  },
  {
   "cell_type": "markdown",
   "metadata": {},
   "source": [
    "## Brute Force\n",
    "<p>Time Complexity : <b>O(n^2)</b></p>"
   ]
  },
  {
   "cell_type": "code",
   "execution_count": 39,
   "metadata": {},
   "outputs": [],
   "source": [
    "# Toggeling Bulbs ON and OFF with respect to the bulb that are multiples of integers from 1 - N\n",
    "\n",
    "for i in range(1,N+1):\n",
    "    for j in range(1,N+1):\n",
    "        if(j%i == 0):\n",
    "            if(bulbs[j-1] == 0):\n",
    "                bulbs[j-1] = 1\n",
    "            else:\n",
    "                bulbs[j-1] = 0"
   ]
  },
  {
   "cell_type": "code",
   "execution_count": 41,
   "metadata": {},
   "outputs": [
    {
     "name": "stdout",
     "output_type": "stream",
     "text": [
      "Bulbs array :  [1, 0, 0, 1, 0, 0, 0, 0, 1, 0]\n",
      "Number of bulbs in ON state :  3\n"
     ]
    }
   ],
   "source": [
    "# Number of bulbs in ON state\n",
    "print(\"Bulbs array : \",bulbs)\n",
    "print(\"Number of bulbs in ON state : \",sum(bulbs))"
   ]
  },
  {
   "cell_type": "markdown",
   "metadata": {},
   "source": [
    "## Efficient Version\n",
    "<p>Time Complexity : <b>O(root(n))"
   ]
  },
  {
   "cell_type": "code",
   "execution_count": 42,
   "metadata": {},
   "outputs": [
    {
     "name": "stdout",
     "output_type": "stream",
     "text": [
      "Number of bulbs in ON state via Perfect squares method :  3\n"
     ]
    }
   ],
   "source": [
    "# Finding the perfect squares between 1 and N\n",
    "count = 0\n",
    "for i in range(1,N+1):\n",
    "    if(i*i <= N):\n",
    "        count+=1\n",
    "    else:\n",
    "        break\n",
    "\n",
    "print(\"Number of bulbs in ON state via Perfect squares method : \",count)"
   ]
  },
  {
   "cell_type": "code",
   "execution_count": null,
   "metadata": {},
   "outputs": [],
   "source": []
  }
 ],
 "metadata": {
  "kernelspec": {
   "display_name": "base",
   "language": "python",
   "name": "python3"
  },
  "language_info": {
   "codemirror_mode": {
    "name": "ipython",
    "version": 3
   },
   "file_extension": ".py",
   "mimetype": "text/x-python",
   "name": "python",
   "nbconvert_exporter": "python",
   "pygments_lexer": "ipython3",
   "version": "3.11.5"
  }
 },
 "nbformat": 4,
 "nbformat_minor": 2
}
